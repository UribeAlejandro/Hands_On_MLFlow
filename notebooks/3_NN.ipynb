{
 "cells": [
  {
   "cell_type": "markdown",
   "metadata": {
    "colab_type": "text",
    "id": "g3kGx1MllCB-"
   },
   "source": [
    "# Computer Vision - MNIST\n",
    "This notebook shows an approach to a *Supervised Learning - Multiclass Classification* task within the field of *Computer Vision*. More information about the datasets used in this notebook can be found below.\n",
    "\n",
    "## MNIST\n",
    "The MNIST dataset contains 70,000 small images of labeled handwritten digits, from *0 - 9*. This problem is often called as the \"Hello World\" of *Machine Learning* because anyone who learns Machine Learning tackles this problem at any time.  \n",
    "\n",
    "Further information about the dataset can be found in the following webpages:  \n",
    "[MNIST - Yann LeCun](http://yann.lecun.com/exdb/mnist/)  \n",
    "[MNIST 784 - OpenML](https://www.openml.org/d/554)  \n",
    "[MNIST - Tensorflow Datasets](https://www.tensorflow.org/datasets/catalog/mnist)"
   ]
  },
  {
   "cell_type": "markdown",
   "metadata": {
    "colab_type": "text",
    "id": "pdVSX8RxlCB_"
   },
   "source": [
    "## Libraries & Modules"
   ]
  },
  {
   "cell_type": "code",
   "execution_count": 1,
   "metadata": {
    "colab": {
     "base_uri": "https://localhost:8080/",
     "height": 71
    },
    "colab_type": "code",
    "id": "ED3kWsI6lCB_",
    "outputId": "2051dc62-4962-4ed7-bb4b-e76d1038a657"
   },
   "outputs": [
    {
     "name": "stderr",
     "output_type": "stream",
     "text": [
      "/usr/local/lib/python3.6/dist-packages/statsmodels/tools/_testing.py:19: FutureWarning: pandas.util.testing is deprecated. Use the functions in the public API at pandas.testing instead.\n",
      "  import pandas.util.testing as tm\n"
     ]
    }
   ],
   "source": [
    "import numpy as np\n",
    "import pandas as pd\n",
    "import seaborn as sns\n",
    "import matplotlib.pyplot as plt\n",
    "\n",
    "#Modelling\n",
    "import tensorflow as tf\n",
    "from tensorflow import keras\n",
    "\n",
    "#Dimensionality Reduction\n",
    "from sklearn.decomposition import PCA\n",
    "\n",
    "%matplotlib inline"
   ]
  },
  {
   "cell_type": "markdown",
   "metadata": {
    "colab_type": "text",
    "id": "MIATKlWqlCCG"
   },
   "source": [
    "## User Defined Functions"
   ]
  },
  {
   "cell_type": "code",
   "execution_count": 2,
   "metadata": {
    "colab": {},
    "colab_type": "code",
    "id": "smSAz5KQlCCG"
   },
   "outputs": [],
   "source": [
    "def plot_images(images_data,labels_data):\n",
    "    fig, axes = plt.subplots(1, 8,figsize=(14,2))\n",
    "    images_and_labels = list(zip(images_data[:8], labels_data[:8]))\n",
    "    for ax, (image, label) in zip(axes, images_and_labels):\n",
    "        image = image.reshape(28,28)\n",
    "        ax.set_axis_off()\n",
    "        ax.imshow(image, cmap = 'binary')\n",
    "        ax.set_title(f'Label: {label}')"
   ]
  },
  {
   "cell_type": "code",
   "execution_count": 3,
   "metadata": {
    "colab": {},
    "colab_type": "code",
    "id": "UL_LrbiLlCCK"
   },
   "outputs": [],
   "source": [
    "class accuracyCallback(tf.keras.callbacks.Callback):\n",
    "    def on_epoch_end(self, epoch, logs={}):\n",
    "        if(logs.get('accuracy') > 0.998):\n",
    "            print(\"\\nReached 99.8% accuracy so cancelling training!\\n\")\n",
    "            self.model.stop_training = True"
   ]
  },
  {
   "cell_type": "markdown",
   "metadata": {
    "colab_type": "text",
    "id": "LFAX2EE0lCCO"
   },
   "source": [
    "## MNIST\n",
    "The classification task will be tackled using *Convolutional Neural Networks - CNN* and will use two different datasets:\n",
    "- Uncompressed Images\n",
    "- Compressed Images using PCA\n",
    "\n",
    "Each approach listed above has advantages &amp; disadvantages, that will be explained further in the *Error Analysis* section."
   ]
  },
  {
   "cell_type": "markdown",
   "metadata": {
    "colab_type": "text",
    "id": "_lhVJA7elCCP"
   },
   "source": [
    "### Data Loading\n",
    "Keras provides the Datasets API which allows the user to fetch open-sourced datasets, such as MNIST and Fashion MNIST. Firstly, we will use it to load the MNIST dataset. The MNIST contains:\n",
    "- *Images* that corresponds to *70,000 examples* of *28x28* and is denoted as `X`.\n",
    "- *Labels* that corresponds to a column vector which contains the *70,000* corresponding labels and is denoted as `y`.\n",
    "\n",
    "\n",
    "\\begin{equation*}\n",
    "X = \n",
    "\\begin{bmatrix}\n",
    "x_{0,0} & \\cdots & x_{0,27}\\\\\n",
    "\\vdots & \\vdots & \\vdots\\\\\n",
    "x_{27,0} & \\cdots & x_{27,27}\\\\\n",
    "\\end{bmatrix}_{70000\\times 28 \\times 28}\n",
    "\\quad\n",
    "\\quad\n",
    "y = \n",
    "\\begin{bmatrix}\n",
    "y_{0,0}\\\\\n",
    "\\vdots\\\\\n",
    "\\vdots\\\\\n",
    "\\vdots\\\\\n",
    "\\vdots\\\\\n",
    "\\vdots\\\\\n",
    "y_{69999,0}\\\\\n",
    "\\end{bmatrix}_{7000\\times 1}\n",
    "\\end{equation*}\n",
    "\n",
    "The Keras Datasets API splits the data into `training` &amp; `test` examples. It assigns *60,000* examples for `training` and *10,000* examples for `test`."
   ]
  },
  {
   "cell_type": "code",
   "execution_count": 4,
   "metadata": {
    "colab": {},
    "colab_type": "code",
    "id": "6k43XwnelCCP"
   },
   "outputs": [],
   "source": [
    "mnist = tf.keras.datasets.mnist\n",
    "(training_images, training_labels), (test_images, test_labels) = mnist.load_data()"
   ]
  },
  {
   "cell_type": "markdown",
   "metadata": {
    "colab_type": "text",
    "id": "nkNi9Cp9lCCT"
   },
   "source": [
    "Let's check the type of the pixels in images and labels."
   ]
  },
  {
   "cell_type": "code",
   "execution_count": 5,
   "metadata": {
    "colab": {
     "base_uri": "https://localhost:8080/",
     "height": 85
    },
    "colab_type": "code",
    "id": "Y4zOEA_NlCCU",
    "outputId": "1673d9ea-b409-481f-e525-a776ae55ad9d"
   },
   "outputs": [
    {
     "name": "stdout",
     "output_type": "stream",
     "text": [
      "Pixels Training images type: <class 'numpy.uint8'>\n",
      "Training labels type: <class 'numpy.uint8'>\n",
      "Pixels Test images type: <class 'numpy.uint8'>\n",
      "Test labels type: <class 'numpy.uint8'>\n"
     ]
    }
   ],
   "source": [
    "print(f'Pixels Training images type: {type(training_images[0][0][0])}')\n",
    "print(f'Training labels type: {type(training_labels[0])}')\n",
    "print(f'Pixels Test images type: {type(test_images[0][0][0])}')\n",
    "print(f'Test labels type: {type(test_labels[0])}')"
   ]
  },
  {
   "cell_type": "markdown",
   "metadata": {
    "colab_type": "text",
    "id": "GM0JPClwlCCa"
   },
   "source": [
    "The pixels in images are *int8*, they will casted to *float32*."
   ]
  },
  {
   "cell_type": "code",
   "execution_count": 6,
   "metadata": {
    "colab": {
     "base_uri": "https://localhost:8080/",
     "height": 51
    },
    "colab_type": "code",
    "id": "slWXa_dTlCCb",
    "outputId": "7d797972-6bf8-4368-d4e6-322f14199e78"
   },
   "outputs": [
    {
     "name": "stdout",
     "output_type": "stream",
     "text": [
      "Pixels Training images type: <class 'numpy.float32'>\n",
      "Pixels Test images type: <class 'numpy.float32'>\n"
     ]
    }
   ],
   "source": [
    "training_images, test_images = training_images.astype('float32'), test_images.astype('float32')\n",
    "\n",
    "print(f'Pixels Training images type: {type(training_images[0][0][0])}')\n",
    "print(f'Pixels Test images type: {type(test_images[0][0][0])}')"
   ]
  },
  {
   "cell_type": "markdown",
   "metadata": {
    "colab_type": "text",
    "id": "O9MsAyiGlCCg"
   },
   "source": [
    "The pixels will be rescaled, it will be a value between [0-1], this will improve the training process, because it reduces training time."
   ]
  },
  {
   "cell_type": "code",
   "execution_count": 7,
   "metadata": {
    "colab": {},
    "colab_type": "code",
    "id": "YSRma8M_lCCg"
   },
   "outputs": [],
   "source": [
    "training_images, test_images = training_images / 255.0, test_images / 255.0"
   ]
  },
  {
   "cell_type": "markdown",
   "metadata": {
    "colab_type": "text",
    "id": "UvdV__lRlCCk"
   },
   "source": [
    "Let's check their dimensions."
   ]
  },
  {
   "cell_type": "code",
   "execution_count": 8,
   "metadata": {
    "colab": {
     "base_uri": "https://localhost:8080/",
     "height": 85
    },
    "colab_type": "code",
    "id": "ppubjthElCCk",
    "outputId": "3ee62497-3c10-40b7-aca2-34392b3e6620"
   },
   "outputs": [
    {
     "name": "stdout",
     "output_type": "stream",
     "text": [
      "Training images shape: (60000, 28, 28)\n",
      "Training labels shape: (60000,)\n",
      "Test images shape: (10000, 28, 28)\n",
      "Test labels shape: (10000,)\n"
     ]
    }
   ],
   "source": [
    "print(f'Training images shape: {training_images.shape}')\n",
    "print(f'Training labels shape: {training_labels.shape}')\n",
    "print(f'Test images shape: {test_images.shape}')\n",
    "print(f'Test labels shape: {test_labels.shape}')"
   ]
  },
  {
   "cell_type": "markdown",
   "metadata": {
    "colab_type": "text",
    "id": "K_33ND_BlCCo"
   },
   "source": [
    "The `labels` variables correspond to a *rank-1 array*, that is *(70000, )* in total. Also the `images` should be reshaped to *(70000,28,28,1)* in order to specify that there is only one color channel."
   ]
  },
  {
   "cell_type": "code",
   "execution_count": 9,
   "metadata": {
    "colab": {},
    "colab_type": "code",
    "id": "DLi4CyCvlCCp"
   },
   "outputs": [],
   "source": [
    "training_images = training_images.reshape(60000,28,28,1)\n",
    "test_images = test_images.reshape(10000,28,28,1)"
   ]
  },
  {
   "cell_type": "markdown",
   "metadata": {
    "colab_type": "text",
    "id": "S-VedYkolCCs"
   },
   "source": [
    "Some examples of the images are shown below."
   ]
  },
  {
   "cell_type": "code",
   "execution_count": 10,
   "metadata": {
    "colab": {
     "base_uri": "https://localhost:8080/",
     "height": 130
    },
    "colab_type": "code",
    "id": "nHoEy9RQlCCt",
    "outputId": "c7add2b5-1642-4b8f-a6c1-8f39688c9171"
   },
   "outputs": [
    {
     "data": {
      "image/png": "[encoded data removed]",
      "text/plain": [
       "<Figure size 1008x144 with 8 Axes>"
      ]
     },
     "metadata": {
      "needs_background": "light",
      "tags": []
     },
     "output_type": "display_data"
    }
   ],
   "source": [
    "plot_images(training_images,training_labels)"
   ]
  },
  {
   "cell_type": "markdown",
   "metadata": {
    "colab_type": "text",
    "id": "fLvqWgVclCCy"
   },
   "source": [
    "The balance of different classes in the `target` variable will be checked as follows."
   ]
  },
  {
   "cell_type": "code",
   "execution_count": 11,
   "metadata": {
    "colab": {
     "base_uri": "https://localhost:8080/",
     "height": 295
    },
    "colab_type": "code",
    "id": "ck9J2cLblCCy",
    "outputId": "ba678bad-a2a8-4997-9e96-687df10bb387"
   },
   "outputs": [
    {
     "data": {
      "image/png": "[encoded data removed]",
      "text/plain": [
       "<Figure size 432x288 with 1 Axes>"
      ]
     },
     "metadata": {
      "needs_background": "light",
      "tags": []
     },
     "output_type": "display_data"
    }
   ],
   "source": [
    "sns.countplot(np.concatenate((training_labels, test_labels), axis=0))\n",
    "plt.title('MNIST - Target')\n",
    "plt.xlabel('Label')\n",
    "plt.show()"
   ]
  },
  {
   "cell_type": "markdown",
   "metadata": {
    "colab_type": "text",
    "id": "el4cFGEWlCC3"
   },
   "source": [
    "The dataset will be split into *Train &amp; Validation sets*, the *Validation set* will correspond to the *10%* of the total examples."
   ]
  },
  {
   "cell_type": "code",
   "execution_count": 12,
   "metadata": {
    "colab": {},
    "colab_type": "code",
    "id": "JNLOwku0lCC3"
   },
   "outputs": [],
   "source": [
    "val_images = training_images[50000:]\n",
    "val_labels = training_labels[50000:]\n",
    "\n",
    "training_images = training_images[:50000]\n",
    "training_labels = training_labels[:50000]"
   ]
  },
  {
   "cell_type": "markdown",
   "metadata": {
    "colab_type": "text",
    "id": "SPuyQpg8lCC7"
   },
   "source": [
    "Let's check the shapes after split."
   ]
  },
  {
   "cell_type": "code",
   "execution_count": 13,
   "metadata": {
    "colab": {
     "base_uri": "https://localhost:8080/",
     "height": 119
    },
    "colab_type": "code",
    "id": "RPGM2DbglCC7",
    "outputId": "5c13b309-0ebe-4417-9c4d-afc113c74073"
   },
   "outputs": [
    {
     "name": "stdout",
     "output_type": "stream",
     "text": [
      "Training images shape: (50000, 28, 28, 1)\n",
      "Training labels shape: (50000,)\n",
      "Validation images shape: (10000, 28, 28, 1)\n",
      "Validation labels shape: (10000,)\n",
      "Test images shape: (10000, 28, 28, 1)\n",
      "Test labels shape: (10000,)\n"
     ]
    }
   ],
   "source": [
    "print(f'Training images shape: {training_images.shape}')\n",
    "print(f'Training labels shape: {training_labels.shape}')\n",
    "print(f'Validation images shape: {val_images.shape}')\n",
    "print(f'Validation labels shape: {val_labels.shape}')\n",
    "print(f'Test images shape: {test_images.shape}')\n",
    "print(f'Test labels shape: {test_labels.shape}')"
   ]
  },
  {
   "cell_type": "markdown",
   "metadata": {
    "colab_type": "text",
    "id": "OCM80iiylCC_"
   },
   "source": [
    "The pixels in images correspond to a number between *[0 - 255]*, then the pixels will be rescaled as follows:"
   ]
  },
  {
   "cell_type": "markdown",
   "metadata": {
    "colab_type": "text",
    "id": "XhAPM0fclCDA"
   },
   "source": [
    "### Modelling\n",
    "\n",
    "This phase will follow two approaches, both using the same *Convolutional Neural Network architecture*:\n",
    "- Uncompressed images.\n",
    "- Compressed images using PCA.\n",
    "\n",
    "The architecture of the current Convolutional layer is shown below:\n",
    "\n",
    "![CNN](../assets/CNN.svg)\n",
    "\n",
    "The *accuracy* is the metric used to evaluate the performance of the model, the accuracy is defined as follows:\n",
    "\n",
    "\\begin{equation*}\n",
    "accuracy\\; =\\; \\dfrac{Number\\; of\\; correct\\; predictions}{Total\\; number\\; of\\; predictions}\n",
    "\\end{equation*}\n"
   ]
  },
  {
   "cell_type": "markdown",
   "metadata": {
    "colab_type": "text",
    "id": "I5EzkD-zlCDA"
   },
   "source": [
    "#### Uncompressed Images\n",
    "This approach will use rescaled images without any compression for *training*, *validation* &amp; *test* steps."
   ]
  },
  {
   "cell_type": "code",
   "execution_count": 14,
   "metadata": {
    "colab": {},
    "colab_type": "code",
    "id": "bKMKqumXlCDB"
   },
   "outputs": [],
   "source": [
    "model = tf.keras.models.Sequential([\n",
    "    tf.keras.layers.Conv2D(64, (3,3), activation = 'relu', input_shape = (28,28,1)),\n",
    "    tf.keras.layers.MaxPooling2D(2,2),\n",
    "    tf.keras.layers.Conv2D(64, (3,3), activation = 'relu'),\n",
    "    tf.keras.layers.MaxPooling2D(2,2),\n",
    "    tf.keras.layers.Flatten(),\n",
    "    tf.keras.layers.Dense(128, activation = 'relu'),\n",
    "    tf.keras.layers.Dense(10, activation = 'softmax')])"
   ]
  },
  {
   "cell_type": "markdown",
   "metadata": {
    "colab_type": "text",
    "id": "9QPVTPnblCDG"
   },
   "source": [
    "The method *compile()* allows us to define the optimizer, the loss function, metrics, and other parameters if necessary."
   ]
  },
  {
   "cell_type": "code",
   "execution_count": 15,
   "metadata": {
    "colab": {},
    "colab_type": "code",
    "id": "TUvbMetSlCDH"
   },
   "outputs": [],
   "source": [
    "model.compile(optimizer = 'adam', loss = 'sparse_categorical_crossentropy', metrics=['accuracy'])"
   ]
  },
  {
   "cell_type": "markdown",
   "metadata": {
    "colab_type": "text",
    "id": "A1IQ3lpulCDK"
   },
   "source": [
    "The method *summary()* provides an information about the parameters of each layer and the shape of their outputs."
   ]
  },
  {
   "cell_type": "code",
   "execution_count": 16,
   "metadata": {
    "colab": {
     "base_uri": "https://localhost:8080/",
     "height": 391
    },
    "colab_type": "code",
    "id": "Wa7ECOEblCDL",
    "outputId": "c1b20b86-5c7a-4b9b-b8b1-e00fa6077248"
   },
   "outputs": [
    {
     "name": "stdout",
     "output_type": "stream",
     "text": [
      "Model: \"sequential\"\n",
      "_________________________________________________________________\n",
      "Layer (type)                 Output Shape              Param #   \n",
      "=================================================================\n",
      "conv2d (Conv2D)              (None, 26, 26, 64)        640       \n",
      "_________________________________________________________________\n",
      "max_pooling2d (MaxPooling2D) (None, 13, 13, 64)        0         \n",
      "_________________________________________________________________\n",
      "conv2d_1 (Conv2D)            (None, 11, 11, 64)        36928     \n",
      "_________________________________________________________________\n",
      "max_pooling2d_1 (MaxPooling2 (None, 5, 5, 64)          0         \n",
      "_________________________________________________________________\n",
      "flatten (Flatten)            (None, 1600)              0         \n",
      "_________________________________________________________________\n",
      "dense (Dense)                (None, 128)               204928    \n",
      "_________________________________________________________________\n",
      "dense_1 (Dense)              (None, 10)                1290      \n",
      "=================================================================\n",
      "Total params: 243,786\n",
      "Trainable params: 243,786\n",
      "Non-trainable params: 0\n",
      "_________________________________________________________________\n"
     ]
    }
   ],
   "source": [
    "model.summary()"
   ]
  },
  {
   "cell_type": "markdown",
   "metadata": {
    "colab_type": "text",
    "id": "uM3SQjQMlCDO"
   },
   "source": [
    "Let's use the \n",
    "```python\n",
    "class accuracyCallback()\n",
    "```\n",
    "to create a callback which will stop trainining the model once the *accuracy* reaches *99.8%*, which is quite high but the overfiting will be checked in the **Error Analysis** section."
   ]
  },
  {
   "cell_type": "code",
   "execution_count": 17,
   "metadata": {
    "colab": {},
    "colab_type": "code",
    "id": "ZZHhp5-_lCDO"
   },
   "outputs": [],
   "source": [
    "accCallback = accuracyCallback()"
   ]
  },
  {
   "cell_type": "markdown",
   "metadata": {
    "colab_type": "text",
    "id": "EDyVeGE0lCDT"
   },
   "source": [
    "The *fit()* method will train the model and the history of this step will be stored in the `history` variable in order to save the information to carry out the **Error Analysis** later. The model will be trained in *20 epochs*, but we expect to reach *99.8% accuracy* before the 15<sup>th</sup> epoch."
   ]
  },
  {
   "cell_type": "code",
   "execution_count": 18,
   "metadata": {
    "colab": {
     "base_uri": "https://localhost:8080/",
     "height": 408
    },
    "colab_type": "code",
    "id": "hAfxuisKlCDU",
    "outputId": "7c6dc1db-9ffb-4d42-ee80-b7c0d38033b9"
   },
   "outputs": [
    {
     "name": "stdout",
     "output_type": "stream",
     "text": [
      "Epoch 1/20\n",
      "1563/1563 - 5s - loss: 0.1346 - accuracy: 0.9582 - val_loss: 0.0553 - val_accuracy: 0.9842\n",
      "Epoch 2/20\n",
      "1563/1563 - 5s - loss: 0.0457 - accuracy: 0.9858 - val_loss: 0.0351 - val_accuracy: 0.9898\n",
      "Epoch 3/20\n",
      "1563/1563 - 5s - loss: 0.0297 - accuracy: 0.9903 - val_loss: 0.0416 - val_accuracy: 0.9875\n",
      "Epoch 4/20\n",
      "1563/1563 - 5s - loss: 0.0214 - accuracy: 0.9932 - val_loss: 0.0387 - val_accuracy: 0.9898\n",
      "Epoch 5/20\n",
      "1563/1563 - 5s - loss: 0.0153 - accuracy: 0.9948 - val_loss: 0.0459 - val_accuracy: 0.9885\n",
      "Epoch 6/20\n",
      "1563/1563 - 5s - loss: 0.0130 - accuracy: 0.9957 - val_loss: 0.0385 - val_accuracy: 0.9905\n",
      "Epoch 7/20\n",
      "1563/1563 - 5s - loss: 0.0105 - accuracy: 0.9965 - val_loss: 0.0462 - val_accuracy: 0.9879\n",
      "Epoch 8/20\n",
      "1563/1563 - 5s - loss: 0.0076 - accuracy: 0.9972 - val_loss: 0.0528 - val_accuracy: 0.9890\n",
      "Epoch 9/20\n",
      "1563/1563 - 5s - loss: 0.0075 - accuracy: 0.9975 - val_loss: 0.0453 - val_accuracy: 0.9913\n",
      "Epoch 10/20\n",
      "\n",
      "Reached 99.8% accuracy so cancelling training!\n",
      "\n",
      "1563/1563 - 5s - loss: 0.0057 - accuracy: 0.9981 - val_loss: 0.0448 - val_accuracy: 0.9911\n"
     ]
    }
   ],
   "source": [
    "history_u = model.fit(training_images, training_labels,\n",
    "                      validation_data = (val_images, val_labels),\n",
    "                      callbacks = [accCallback],epochs = 20, verbose = 2)"
   ]
  },
  {
   "cell_type": "markdown",
   "metadata": {
    "colab_type": "text",
    "id": "1n7PDpSMlCDW"
   },
   "source": [
    "The model reached the 99.8% accuracy in less than 15 epoch and now let's check it's performance over the test set."
   ]
  },
  {
   "cell_type": "code",
   "execution_count": 19,
   "metadata": {
    "colab": {
     "base_uri": "https://localhost:8080/",
     "height": 51
    },
    "colab_type": "code",
    "id": "XRE3Qh4DlCDX",
    "outputId": "715d4070-54cd-4cc7-9ae8-c041b2f46604"
   },
   "outputs": [
    {
     "name": "stdout",
     "output_type": "stream",
     "text": [
      "313/313 [==============================] - 1s 2ms/step - loss: 0.0398 - accuracy: 0.9911\n"
     ]
    },
    {
     "data": {
      "text/plain": [
       "[0.039839547127485275, 0.991100013256073]"
      ]
     },
     "execution_count": 19,
     "metadata": {
      "tags": []
     },
     "output_type": "execute_result"
    }
   ],
   "source": [
    "model.evaluate(test_images, test_labels)"
   ]
  },
  {
   "cell_type": "markdown",
   "metadata": {
    "colab_type": "text",
    "id": "1ob-sZ5wlCDZ"
   },
   "source": [
    "99.1% test set accuracy, with this result we can tell that there was no overfiting."
   ]
  },
  {
   "cell_type": "markdown",
   "metadata": {
    "colab_type": "text",
    "id": "Ec6Kaw8HlCDa"
   },
   "source": [
    "#### Compressed images using PCA\n",
    "The Principal Component Analysis allows us to compress the images. Initially the images consist on 784 pixels, we will use the *explained variance* to identify the numbers of components which can be kept."
   ]
  },
  {
   "cell_type": "markdown",
   "metadata": {
    "colab_type": "text",
    "id": "GG7sR25AlCDb"
   },
   "source": [
    "To start this analysis let's perform the analysis over all the images, then the training set and validation set will be concatenated and reshaped in order to carry out this analysis."
   ]
  },
  {
   "cell_type": "code",
   "execution_count": 20,
   "metadata": {
    "colab": {},
    "colab_type": "code",
    "id": "UmqrGo4slCDb"
   },
   "outputs": [],
   "source": [
    "training_images = np.concatenate((training_images, val_images), axis = 0)\n",
    "training_labels = np.concatenate((training_labels, val_labels), axis = 0)\n",
    "\n",
    "training_images = training_images.reshape(60000,784)"
   ]
  },
  {
   "cell_type": "markdown",
   "metadata": {
    "colab_type": "text",
    "id": "0W9M9N6glCDe"
   },
   "source": [
    "The Principal Component Analysis starts keeping all the components, that are 784 pixels."
   ]
  },
  {
   "cell_type": "code",
   "execution_count": 21,
   "metadata": {
    "colab": {},
    "colab_type": "code",
    "id": "Rz3hfdsxlCDf"
   },
   "outputs": [],
   "source": [
    "pca = PCA()"
   ]
  },
  {
   "cell_type": "markdown",
   "metadata": {
    "colab_type": "text",
    "id": "KDDFBFlJlCDi"
   },
   "source": [
    "The *fit()* method will perform the underlying steps of Principal Component Analysis over all the images."
   ]
  },
  {
   "cell_type": "code",
   "execution_count": 22,
   "metadata": {
    "colab": {
     "base_uri": "https://localhost:8080/",
     "height": 51
    },
    "colab_type": "code",
    "id": "dg5LyFB7lCDi",
    "outputId": "952b275f-4c0d-45a5-d71e-3d42b279b382"
   },
   "outputs": [
    {
     "data": {
      "text/plain": [
       "PCA(copy=True, iterated_power='auto', n_components=None, random_state=None,\n",
       "    svd_solver='auto', tol=0.0, whiten=False)"
      ]
     },
     "execution_count": 22,
     "metadata": {
      "tags": []
     },
     "output_type": "execute_result"
    }
   ],
   "source": [
    "pca.fit(training_images)"
   ]
  },
  {
   "cell_type": "markdown",
   "metadata": {
    "colab_type": "text",
    "id": "fHtIIc8AlCDl"
   },
   "source": [
    "The explained variance ratio will be obtained by component and the *cumulative sum* of them in order to check graphically the number of components which can be kept."
   ]
  },
  {
   "cell_type": "code",
   "execution_count": 23,
   "metadata": {
    "colab": {
     "base_uri": "https://localhost:8080/",
     "height": 370
    },
    "colab_type": "code",
    "id": "QmVwtj9glCDm",
    "outputId": "6acc623b-94a2-4179-87a3-cc016e045b3b"
   },
   "outputs": [
    {
     "data": {
      "image/png": "[encoded data removed]",
      "text/plain": [
       "<Figure size 1080x360 with 2 Axes>"
      ]
     },
     "metadata": {
      "needs_background": "light",
      "tags": []
     },
     "output_type": "display_data"
    }
   ],
   "source": [
    "expl_var_comp = pca.explained_variance_ratio_\n",
    "expl_var = pca.explained_variance_ratio_.cumsum()\n",
    "\n",
    "fig,ax = plt.subplots(1, 2, sharex = True, sharey = False, figsize = (15,5))\n",
    "plt.ylim(0, 1)\n",
    "plt.xlim(0, 200)\n",
    "plt.suptitle('PCA Analysis')\n",
    "\n",
    "ax[0].plot(expl_var_comp)\n",
    "ax[0].set_ylabel('% Explained Variance per component')\n",
    "ax[0].set_xlabel('Number of Components')\n",
    "\n",
    "ax[1].set_ylabel('% Total explained variance')\n",
    "ax[1].set_xlabel('Number of components')\n",
    "ax[1].plot(expl_var)\n",
    "ax[1].plot([0, 156], [.95, .95],'r--')\n",
    "ax[1].plot([156,156], [0, .95], 'r--')\n",
    "\n",
    "plt.show()"
   ]
  },
  {
   "cell_type": "markdown",
   "metadata": {
    "colab_type": "text",
    "id": "M1rWzYNblCDo"
   },
   "source": [
    "If we take between [150 - 160] components they will keep the 95% of the total variance. "
   ]
  },
  {
   "cell_type": "markdown",
   "metadata": {
    "colab_type": "text",
    "id": "wLlwuhEhlCDp"
   },
   "source": [
    "We can explicity tell the PCA to keep the 95% of the variance as follows."
   ]
  },
  {
   "cell_type": "code",
   "execution_count": 24,
   "metadata": {
    "colab": {},
    "colab_type": "code",
    "id": "yT5S5h00lCDp"
   },
   "outputs": [],
   "source": [
    "pca = PCA(0.95)"
   ]
  },
  {
   "cell_type": "markdown",
   "metadata": {
    "colab_type": "text",
    "id": "yCi-HbaXlCDs"
   },
   "source": [
    "The images will be fit and transformed in order to keep the new components which are the output of the Principal Component Analysis."
   ]
  },
  {
   "cell_type": "code",
   "execution_count": 25,
   "metadata": {
    "colab": {},
    "colab_type": "code",
    "id": "vsTktCyLlCDs"
   },
   "outputs": [],
   "source": [
    "training_images = pca.fit_transform(training_images)"
   ]
  },
  {
   "cell_type": "markdown",
   "metadata": {
    "colab_type": "text",
    "id": "dzXy7QpnlCDv"
   },
   "source": [
    "Let's check the shape of the output."
   ]
  },
  {
   "cell_type": "code",
   "execution_count": 26,
   "metadata": {
    "colab": {
     "base_uri": "https://localhost:8080/",
     "height": 34
    },
    "colab_type": "code",
    "id": "aGmutseHlCDv",
    "outputId": "82efbcb8-1da9-4983-da0c-bbc6d4b9cb75"
   },
   "outputs": [
    {
     "data": {
      "text/plain": [
       "(60000, 154)"
      ]
     },
     "execution_count": 26,
     "metadata": {
      "tags": []
     },
     "output_type": "execute_result"
    }
   ],
   "source": [
    "training_images.shape"
   ]
  },
  {
   "cell_type": "markdown",
   "metadata": {
    "colab_type": "text",
    "id": "FJJAKKIRlCDy"
   },
   "source": [
    "The results correspond to the 60,000 examples and 154 pixels were kept."
   ]
  },
  {
   "cell_type": "markdown",
   "metadata": {
    "colab_type": "text",
    "id": "l6XPtpKRlCDz"
   },
   "source": [
    "The training images will be reshaped to specify that there is only one channel."
   ]
  },
  {
   "cell_type": "code",
   "execution_count": 27,
   "metadata": {
    "colab": {},
    "colab_type": "code",
    "id": "osfh7WCrlCDz"
   },
   "outputs": [],
   "source": [
    "training_images = training_images.reshape(60000,154,1)"
   ]
  },
  {
   "cell_type": "markdown",
   "metadata": {
    "colab_type": "text",
    "id": "Jv5LQR9PlCD2"
   },
   "source": [
    "The data will be split into *training* and *validation* sets."
   ]
  },
  {
   "cell_type": "code",
   "execution_count": 28,
   "metadata": {
    "colab": {},
    "colab_type": "code",
    "id": "hnBh7cSqlCD2"
   },
   "outputs": [],
   "source": [
    "val_images = training_images[50000:]\n",
    "val_labels = training_labels[50000:]\n",
    "\n",
    "training_images = training_images[:50000]\n",
    "training_labels = training_labels[:50000]"
   ]
  },
  {
   "cell_type": "markdown",
   "metadata": {
    "colab_type": "text",
    "id": "C5jRoQAUlCD5"
   },
   "source": [
    "We will use the same architecture used previously but changing the first convolutions to perform it over a 1D tensor."
   ]
  },
  {
   "cell_type": "code",
   "execution_count": 29,
   "metadata": {
    "colab": {},
    "colab_type": "code",
    "id": "iPNsxCTElCD5"
   },
   "outputs": [],
   "source": [
    "model = tf.keras.models.Sequential([\n",
    "    tf.keras.layers.Conv1D(64, (3), activation = 'relu', input_shape = (154,1)),\n",
    "    tf.keras.layers.MaxPooling1D(2,2),\n",
    "    tf.keras.layers.Conv1D(64, (3), activation = 'relu'),\n",
    "    tf.keras.layers.MaxPooling1D(2,2),\n",
    "    tf.keras.layers.Flatten(),\n",
    "    tf.keras.layers.Dense(128, activation = 'relu'),\n",
    "    tf.keras.layers.Dense(10, activation = 'softmax')])"
   ]
  },
  {
   "cell_type": "markdown",
   "metadata": {
    "colab_type": "text",
    "id": "x-IPlsTvlCD8"
   },
   "source": [
    "The model willbe compiled as follows."
   ]
  },
  {
   "cell_type": "code",
   "execution_count": 30,
   "metadata": {
    "colab": {},
    "colab_type": "code",
    "id": "CfqdIsNmlCD8"
   },
   "outputs": [],
   "source": [
    "model.compile(optimizer = 'adam', loss = 'sparse_categorical_crossentropy', metrics=['accuracy'])"
   ]
  },
  {
   "cell_type": "markdown",
   "metadata": {
    "colab_type": "text",
    "id": "ENArHx3slCEA"
   },
   "source": [
    "The summary of the model can be shown as follows."
   ]
  },
  {
   "cell_type": "code",
   "execution_count": 31,
   "metadata": {
    "colab": {
     "base_uri": "https://localhost:8080/",
     "height": 391
    },
    "colab_type": "code",
    "id": "RMZKQEQrlCEA",
    "outputId": "ef36d157-b3af-4660-b6dd-f51688611404"
   },
   "outputs": [
    {
     "name": "stdout",
     "output_type": "stream",
     "text": [
      "Model: \"sequential_1\"\n",
      "_________________________________________________________________\n",
      "Layer (type)                 Output Shape              Param #   \n",
      "=================================================================\n",
      "conv1d (Conv1D)              (None, 152, 64)           256       \n",
      "_________________________________________________________________\n",
      "max_pooling1d (MaxPooling1D) (None, 76, 64)            0         \n",
      "_________________________________________________________________\n",
      "conv1d_1 (Conv1D)            (None, 74, 64)            12352     \n",
      "_________________________________________________________________\n",
      "max_pooling1d_1 (MaxPooling1 (None, 37, 64)            0         \n",
      "_________________________________________________________________\n",
      "flatten_1 (Flatten)          (None, 2368)              0         \n",
      "_________________________________________________________________\n",
      "dense_2 (Dense)              (None, 128)               303232    \n",
      "_________________________________________________________________\n",
      "dense_3 (Dense)              (None, 10)                1290      \n",
      "=================================================================\n",
      "Total params: 317,130\n",
      "Trainable params: 317,130\n",
      "Non-trainable params: 0\n",
      "_________________________________________________________________\n"
     ]
    }
   ],
   "source": [
    "model.summary()"
   ]
  },
  {
   "cell_type": "markdown",
   "metadata": {
    "colab_type": "text",
    "id": "5eW6r0YQlCED"
   },
   "source": [
    "The history of the training will be stored in the `history` variable in order to save the information to carry out the **Error Analysis** later. The model will be trained in *30 epochs*, but we expect to reach *99.8% accuracy* before the 25<sup>th</sup> epoch."
   ]
  },
  {
   "cell_type": "code",
   "execution_count": 32,
   "metadata": {
    "colab": {
     "base_uri": "https://localhost:8080/",
     "height": 697
    },
    "colab_type": "code",
    "id": "4GvwLbvPlCED",
    "outputId": "0e5cbe1d-d18d-47e5-d65a-2fb5c3c9d0ce"
   },
   "outputs": [
    {
     "name": "stdout",
     "output_type": "stream",
     "text": [
      "Epoch 1/20\n",
      "1563/1563 - 5s - loss: 0.3620 - accuracy: 0.8887 - val_loss: 0.1825 - val_accuracy: 0.9469\n",
      "Epoch 2/20\n",
      "1563/1563 - 5s - loss: 0.1493 - accuracy: 0.9544 - val_loss: 0.1436 - val_accuracy: 0.9551\n",
      "Epoch 3/20\n",
      "1563/1563 - 5s - loss: 0.1022 - accuracy: 0.9673 - val_loss: 0.1446 - val_accuracy: 0.9584\n",
      "Epoch 4/20\n",
      "1563/1563 - 5s - loss: 0.0682 - accuracy: 0.9775 - val_loss: 0.1339 - val_accuracy: 0.9596\n",
      "Epoch 5/20\n",
      "1563/1563 - 5s - loss: 0.0472 - accuracy: 0.9840 - val_loss: 0.1335 - val_accuracy: 0.9637\n",
      "Epoch 6/20\n",
      "1563/1563 - 5s - loss: 0.0333 - accuracy: 0.9888 - val_loss: 0.1551 - val_accuracy: 0.9620\n",
      "Epoch 7/20\n",
      "1563/1563 - 5s - loss: 0.0262 - accuracy: 0.9910 - val_loss: 0.1623 - val_accuracy: 0.9621\n",
      "Epoch 8/20\n",
      "1563/1563 - 5s - loss: 0.0227 - accuracy: 0.9922 - val_loss: 0.1677 - val_accuracy: 0.9621\n",
      "Epoch 9/20\n",
      "1563/1563 - 5s - loss: 0.0187 - accuracy: 0.9933 - val_loss: 0.1987 - val_accuracy: 0.9620\n",
      "Epoch 10/20\n",
      "1563/1563 - 5s - loss: 0.0169 - accuracy: 0.9945 - val_loss: 0.1917 - val_accuracy: 0.9625\n",
      "Epoch 11/20\n",
      "1563/1563 - 5s - loss: 0.0151 - accuracy: 0.9950 - val_loss: 0.2051 - val_accuracy: 0.9628\n",
      "Epoch 12/20\n",
      "1563/1563 - 5s - loss: 0.0141 - accuracy: 0.9954 - val_loss: 0.2068 - val_accuracy: 0.9599\n",
      "Epoch 13/20\n",
      "1563/1563 - 5s - loss: 0.0150 - accuracy: 0.9950 - val_loss: 0.2129 - val_accuracy: 0.9645\n",
      "Epoch 14/20\n",
      "1563/1563 - 5s - loss: 0.0130 - accuracy: 0.9955 - val_loss: 0.2253 - val_accuracy: 0.9639\n",
      "Epoch 15/20\n",
      "1563/1563 - 5s - loss: 0.0144 - accuracy: 0.9952 - val_loss: 0.2175 - val_accuracy: 0.9624\n",
      "Epoch 16/20\n",
      "1563/1563 - 5s - loss: 0.0090 - accuracy: 0.9969 - val_loss: 0.2585 - val_accuracy: 0.9619\n",
      "Epoch 17/20\n",
      "1563/1563 - 5s - loss: 0.0123 - accuracy: 0.9962 - val_loss: 0.2464 - val_accuracy: 0.9619\n",
      "Epoch 18/20\n",
      "1563/1563 - 5s - loss: 0.0115 - accuracy: 0.9962 - val_loss: 0.2574 - val_accuracy: 0.9592\n",
      "Epoch 19/20\n",
      "1563/1563 - 5s - loss: 0.0088 - accuracy: 0.9971 - val_loss: 0.2640 - val_accuracy: 0.9650\n",
      "Epoch 20/20\n",
      "1563/1563 - 5s - loss: 0.0102 - accuracy: 0.9968 - val_loss: 0.2603 - val_accuracy: 0.9613\n"
     ]
    }
   ],
   "source": [
    "history_c = model.fit(training_images, training_labels,\n",
    "                      callbacks = [accCallback], epochs = 20,\n",
    "                      validation_data = (val_images, val_labels), verbose = 2)"
   ]
  },
  {
   "cell_type": "markdown",
   "metadata": {
    "colab_type": "text",
    "id": "Fyn-wW0wlCEG"
   },
   "source": [
    "### Error Analysis"
   ]
  },
  {
   "cell_type": "code",
   "execution_count": 33,
   "metadata": {
    "colab": {
     "base_uri": "https://localhost:8080/",
     "height": 893
    },
    "colab_type": "code",
    "id": "X5VOGFv6lCEG",
    "outputId": "86bfdcda-b960-48aa-a6f1-18abd80ca9ec"
   },
   "outputs": [
    {
     "data": {
      "image/png": "[encoded data removed]",
      "text/plain": [
       "<Figure size 1440x1080 with 4 Axes>"
      ]
     },
     "metadata": {
      "needs_background": "light",
      "tags": []
     },
     "output_type": "display_data"
    }
   ],
   "source": [
    "fig, ax = plt.subplots(2, 2, figsize = (20, 15))\n",
    "\n",
    "ax[0,0].plot(history_u.history['loss'])\n",
    "ax[0,0].plot(history_u.history['val_loss'])\n",
    "ax[0,0].set_title('Model Loss - Uncompressed')\n",
    "ax[0,0].legend(['Train', 'Test'], loc = 'best')\n",
    "ax[0,0].set_ylabel('Loss')\n",
    "ax[0,0].set_xlabel('Epoch')\n",
    "\n",
    "ax[1,0].plot(history_u.history['accuracy'])\n",
    "ax[1,0].plot(history_u.history['val_accuracy'])\n",
    "ax[1,0].set_title('Model Accuracy -  Uncompressed')\n",
    "ax[1,0].set_ylabel('Accuracy')\n",
    "ax[1,0].set_xlabel('Epoch')\n",
    "ax[1,0].legend(['Train', 'Test'], loc = 'best')\n",
    "\n",
    "ax[0,1].plot(history_c.history['loss'])\n",
    "ax[0,1].plot(history_c.history['val_loss'])\n",
    "ax[0,1].set_title('Model Loss - Compressed')\n",
    "ax[0,1].legend(['train', 'test'], loc = 'best')\n",
    "ax[0,1].set_ylabel('Loss')\n",
    "ax[0,1].set_xlabel('Epoch')\n",
    "\n",
    "ax[1,1].plot(history_c.history['accuracy'])\n",
    "ax[1,1].plot(history_c.history['val_accuracy'])\n",
    "ax[1,1].set_title('Model Accuracy - Compressed')\n",
    "ax[1,1].set_ylabel('Accuracy')\n",
    "ax[1,1].set_xlabel('Epoch')\n",
    "ax[1,1].legend(['Train', 'Test'], loc = 'best')\n",
    "\n",
    "plt.show()"
   ]
  }
 ],
 "metadata": {
  "accelerator": "GPU",
  "colab": {
   "name": "MNIST.ipynb",
   "provenance": []
  },
  "kernelspec": {
   "display_name": "Python 3 (ipykernel)",
   "language": "python",
   "name": "python3"
  },
  "language_info": {
   "codemirror_mode": {
    "name": "ipython",
    "version": 3
   },
   "file_extension": ".py",
   "mimetype": "text/x-python",
   "name": "python",
   "nbconvert_exporter": "python",
   "pygments_lexer": "ipython3",
   "version": "3.10.6"
  }
 },
 "nbformat": 4,
 "nbformat_minor": 4
}
